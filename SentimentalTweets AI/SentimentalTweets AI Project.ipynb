{
  "cells": [
    {
      "cell_type": "code",
      "execution_count": 3,
      "metadata": {
        "colab": {
          "base_uri": "https://localhost:8080/"
        },
        "id": "NAVg4O9-LhTN",
        "outputId": "7e9cbc18-6a30-4b31-b1a8-8c69a0ca4cd8"
      },
      "outputs": [
        {
          "output_type": "stream",
          "name": "stdout",
          "text": [
            "Mounted at /content/drive\n"
          ]
        }
      ],
      "source": [
        "# STEP 1: Import everything\n",
        "import pandas as pd\n",
        "import numpy as np\n",
        "import re\n",
        "import time\n",
        "import matplotlib.pyplot as plt\n",
        "from sklearn.model_selection import train_test_split\n",
        "from sklearn.utils import class_weight\n",
        "from tensorflow.keras.preprocessing.text import Tokenizer\n",
        "from tensorflow.keras.preprocessing.sequence import pad_sequences\n",
        "from tensorflow.keras.models import Sequential\n",
        "from tensorflow.keras.layers import Embedding, SimpleRNN, LSTM, Bidirectional, Dense, Dropout\n",
        "from tensorflow.keras.optimizers import Adam\n",
        "from google.colab import drive\n",
        "drive.mount('/content/drive')"
      ]
    },
    {
      "cell_type": "markdown",
      "source": [
        "**Step 2: Load and Clean the Dataset**\n",
        "We load the Twitter sentiment dataset and select only the relevant columns: target (sentiment label) and text (tweet content). We filter the dataset to include only tweets with labels 0 (negative) and 4 (positive), then remap the labels to binary: 0 for negative and 1 for positive.\n",
        "\n",
        "We also clean the tweet text by removing URLs, mentions, hashtags, special characters, and converting all text to lowercase. This cleaned version is stored in a new column called clean_text."
      ],
      "metadata": {
        "id": "8AvEgB1R5wFK"
      }
    },
    {
      "cell_type": "code",
      "execution_count": 5,
      "metadata": {
        "id": "LyMQ-Rq8LpDN"
      },
      "outputs": [],
      "source": [
        "# STEP 2: Load and clean dataset\n",
        "df = pd.read_csv(\"/content/drive/MyDrive/Twitter_Sentiment_Analysis/training.csv\", encoding='latin-1', header=None)\n",
        "df.columns = ['target', 'id', 'date', 'query', 'user', 'text']\n",
        "df = df[['target', 'text']]\n",
        "df = df[df['target'].isin([0, 4])]\n",
        "df['target'] = df['target'].map({0: 0, 4: 1})  # 0 = negative, 1 = positive\n",
        "\n",
        "def clean_text(text):\n",
        "    text = re.sub(r\"http\\S+|@\\w+|#|\\W\", \" \", text)\n",
        "    return text.lower().strip()\n",
        "\n",
        "df['clean_text'] = df['text'].apply(clean_text)\n"
      ]
    },
    {
      "cell_type": "markdown",
      "source": [
        "**Step 3: Tokenization and Padding**\n",
        "We convert the cleaned text into numeric format using a tokenizer, limiting the vocabulary to the 20,000 most common words. Words not in this vocabulary are marked as <OOV> (out of vocabulary). Each tweet is transformed into a sequence of word indices.\n",
        "\n",
        "To ensure consistent input length for the neural network, we pad or truncate each sequence to exactly 100 tokens. This results in:\n",
        "\n",
        "X: the padded tweet sequences (features)\n",
        "\n",
        "y: the sentiment labels (targets)"
      ],
      "metadata": {
        "id": "P03PhRcv58Mn"
      }
    },
    {
      "cell_type": "code",
      "source": [
        "# STEP 3: Tokenize and pad\n",
        "vocab_size = 20000\n",
        "max_len = 100\n",
        "embedding_dim = 100\n",
        "\n",
        "tokenizer = Tokenizer(num_words=vocab_size, oov_token=\"<OOV>\")\n",
        "tokenizer.fit_on_texts(df['clean_text'])\n",
        "sequences = tokenizer.texts_to_sequences(df['clean_text'])\n",
        "padded = pad_sequences(sequences, maxlen=max_len, padding='post', truncating='post')\n",
        "\n",
        "X = padded\n",
        "y = df['target'].values"
      ],
      "metadata": {
        "id": "u-3WG_gh2I0f"
      },
      "execution_count": 6,
      "outputs": []
    },
    {
      "cell_type": "markdown",
      "source": [
        "**Step 4: Train, Validation, and Test Split**\n",
        "We split the data into three sets:\n",
        "\n",
        "Training Set (80%): used to train the model.\n",
        "\n",
        "Validation Set (10%): used to tune and monitor the model during training.\n",
        "\n",
        "Test Set (10%): used to evaluate the final performance of the model.\n",
        "\n",
        "We use stratify to ensure both classes (positive and negative) are evenly distributed across all subsets."
      ],
      "metadata": {
        "id": "bB2CFmp56Dvp"
      }
    },
    {
      "cell_type": "code",
      "source": [
        "# STEP 4: Train/Val/Test split\n",
        "X_train, X_temp, y_train, y_temp = train_test_split(X, y, test_size=0.2, stratify=y, random_state=42)\n",
        "X_val, X_test, y_val, y_test = train_test_split(X_temp, y_temp, test_size=0.5, stratify=y_temp, random_state=42)"
      ],
      "metadata": {
        "id": "MtVCf7QF2dKp"
      },
      "execution_count": 7,
      "outputs": []
    },
    {
      "cell_type": "markdown",
      "source": [
        "**Step 5: Load GloVe Embeddings & Compute Class Weights**\n",
        "We load pre-trained GloVe word embeddings (100-dimensional) to create a rich semantic representation of words. Each word in our tokenizer’s vocabulary is mapped to its corresponding GloVe vector to form an embedding matrix, which will be used to initialize the embedding layer in our models.\n",
        "\n",
        "Additionally, we calculate class weights to handle any imbalance in the training labels. This ensures the model gives equal importance to both positive and negative tweets during training.\n",
        "\n",
        "without it :\n",
        "\n",
        "RNN test acc : 0.789175\n",
        "\n",
        "LSTM test acc : 0.797300"
      ],
      "metadata": {
        "id": "wEBw6P2k6Tmp"
      }
    },
    {
      "cell_type": "code",
      "source": [
        "# STEP 5: Load GloVe embeddings\n",
        "embedding_index = {}\n",
        "with open('/content/drive/MyDrive/glove.6B/glove.6B.100d.txt', encoding='utf8') as f:\n",
        "    for line in f:\n",
        "        values = line.split()\n",
        "        word = values[0]\n",
        "        coefs = np.asarray(values[1:], dtype='float32')\n",
        "        embedding_index[word] = coefs\n",
        "\n",
        "embedding_matrix = np.zeros((vocab_size, embedding_dim))\n",
        "for word, i in tokenizer.word_index.items():\n",
        "    if i < vocab_size and word in embedding_index:\n",
        "        embedding_matrix[i] = embedding_index[word]\n",
        "\n",
        "# Class weights\n",
        "weights = class_weight.compute_class_weight('balanced', classes=np.unique(y_train), y=y_train)\n",
        "weights = dict(enumerate(weights))"
      ],
      "metadata": {
        "id": "U-KumtiO2rzO"
      },
      "execution_count": 8,
      "outputs": []
    },
    {
      "cell_type": "markdown",
      "source": [
        "**Step 6: Build and Train the RNN Model**\n",
        "We create a Recurrent Neural Network (RNN) model using the SimpleRNN layer to process tweet sequences. The model includes:\n",
        "\n",
        "A non-trainable embedding layer initialized with GloVe vectors.\n",
        "\n",
        "A recurrent layer (SimpleRNN) with 64 units.\n",
        "\n",
        "Dropout layers to reduce overfitting.\n",
        "\n",
        "Dense layers to learn non-linear representations.\n",
        "\n",
        "A final sigmoid layer for binary classification.\n",
        "\n",
        "The model is compiled with the Adam optimizer and binary cross-entropy loss.\n",
        "It’s trained using class weights for 6 epochs with a batch size of 256.\n",
        "We also record the training time and evaluate the model on the test set."
      ],
      "metadata": {
        "id": "K3DL5U217J76"
      }
    },
    {
      "cell_type": "code",
      "source": [
        "# STEP 6: Build Improved RNN model\n",
        "rnn_model = Sequential([\n",
        "    Embedding(vocab_size, embedding_dim, input_length=max_len, weights=[embedding_matrix], trainable=False),\n",
        "    SimpleRNN(64),\n",
        "    Dropout(0.3),\n",
        "    Dense(64, activation='relu'),\n",
        "    Dropout(0.3),\n",
        "    Dense(1, activation='sigmoid')\n",
        "])\n",
        "# Compile the model\n",
        "rnn_model.compile(optimizer=Adam(1e-4), loss='binary_crossentropy'\n",
        "                                      , metrics=['accuracy'])\n",
        "\n",
        "start_rnn = time.time()\n",
        "# Train the model\n",
        "rnn_history = rnn_model.fit(X_train, y_train,\n",
        "                            epochs=6,\n",
        "                            batch_size=256,\n",
        "                            validation_data=(X_val, y_val),\n",
        "                            class_weight=weights)\n",
        "\n",
        "rnn_time = time.time() - start_rnn\n",
        "rnn_loss, rnn_acc = rnn_model.evaluate(X_test, y_test)"
      ],
      "metadata": {
        "colab": {
          "base_uri": "https://localhost:8080/"
        },
        "id": "ynqNtlXR3KIh",
        "outputId": "f74ed5ac-1fee-4cc7-af70-08c406941009"
      },
      "execution_count": 9,
      "outputs": [
        {
          "output_type": "stream",
          "name": "stderr",
          "text": [
            "/usr/local/lib/python3.11/dist-packages/keras/src/layers/core/embedding.py:90: UserWarning: Argument `input_length` is deprecated. Just remove it.\n",
            "  warnings.warn(\n"
          ]
        },
        {
          "output_type": "stream",
          "name": "stdout",
          "text": [
            "Epoch 1/6\n",
            "\u001b[1m5000/5000\u001b[0m \u001b[32m━━━━━━━━━━━━━━━━━━━━\u001b[0m\u001b[37m\u001b[0m \u001b[1m54s\u001b[0m 10ms/step - accuracy: 0.6307 - loss: 0.6356 - val_accuracy: 0.7180 - val_loss: 0.5591\n",
            "Epoch 2/6\n",
            "\u001b[1m5000/5000\u001b[0m \u001b[32m━━━━━━━━━━━━━━━━━━━━\u001b[0m\u001b[37m\u001b[0m \u001b[1m81s\u001b[0m 10ms/step - accuracy: 0.7185 - loss: 0.5572 - val_accuracy: 0.7349 - val_loss: 0.5326\n",
            "Epoch 3/6\n",
            "\u001b[1m5000/5000\u001b[0m \u001b[32m━━━━━━━━━━━━━━━━━━━━\u001b[0m\u001b[37m\u001b[0m \u001b[1m81s\u001b[0m 10ms/step - accuracy: 0.7363 - loss: 0.5343 - val_accuracy: 0.7464 - val_loss: 0.5148\n",
            "Epoch 4/6\n",
            "\u001b[1m5000/5000\u001b[0m \u001b[32m━━━━━━━━━━━━━━━━━━━━\u001b[0m\u001b[37m\u001b[0m \u001b[1m81s\u001b[0m 10ms/step - accuracy: 0.7461 - loss: 0.5199 - val_accuracy: 0.7541 - val_loss: 0.5073\n",
            "Epoch 5/6\n",
            "\u001b[1m5000/5000\u001b[0m \u001b[32m━━━━━━━━━━━━━━━━━━━━\u001b[0m\u001b[37m\u001b[0m \u001b[1m82s\u001b[0m 10ms/step - accuracy: 0.7533 - loss: 0.5092 - val_accuracy: 0.7586 - val_loss: 0.4997\n",
            "Epoch 6/6\n",
            "\u001b[1m5000/5000\u001b[0m \u001b[32m━━━━━━━━━━━━━━━━━━━━\u001b[0m\u001b[37m\u001b[0m \u001b[1m82s\u001b[0m 10ms/step - accuracy: 0.7579 - loss: 0.5022 - val_accuracy: 0.7645 - val_loss: 0.4914\n",
            "\u001b[1m5000/5000\u001b[0m \u001b[32m━━━━━━━━━━━━━━━━━━━━\u001b[0m\u001b[37m\u001b[0m \u001b[1m19s\u001b[0m 4ms/step - accuracy: 0.7660 - loss: 0.4904\n"
          ]
        }
      ]
    },
    {
      "cell_type": "markdown",
      "source": [
        "**Step 7: Build and Train the Optimized LSTM Model**\n",
        "This step builds an improved sentiment classification model using a Bidirectional LSTM, which can capture context from both directions in the tweet text. The model includes:\n",
        "\n",
        "A trainable embedding layer initialized with GloVe vectors for better fine-tuning.\n",
        "\n",
        "A Bidirectional LSTM layer with 128 units to capture rich sequence patterns.\n",
        "\n",
        "Dropout layers (0.2) to prevent overfitting while maintaining learning capacity.\n",
        "\n",
        "Two dense layers for deeper feature extraction and a final sigmoid layer for binary output.\n",
        "\n",
        "The model is compiled using the Adam optimizer and trained for 8 epochs with a batch size of 256, using class weights to handle any imbalance.\n",
        "It also uses the validation set to monitor performance during training."
      ],
      "metadata": {
        "id": "Mlb4rRqu7dcI"
      }
    },
    {
      "cell_type": "code",
      "source": [
        "# STEP 7: Build Improved LSTM model\n",
        "from tensorflow.keras.models import Sequential\n",
        "from tensorflow.keras.layers import Embedding, LSTM, Dense, Dropout, Bidirectional\n",
        "from tensorflow.keras.optimizers import Adam\n",
        "\n",
        "# Define the model\n",
        "lstm_model = Sequential([\n",
        "    Embedding(input_dim=vocab_size,\n",
        "              output_dim=embedding_dim,\n",
        "              weights=[embedding_matrix],\n",
        "              input_length=max_len,\n",
        "              trainable=True),  # ✅ Allow fine-tuning of embeddings\n",
        "    Bidirectional(LSTM(128, return_sequences=False)),  # ✅ Increased units\n",
        "    Dropout(0.2),  # ✅ Lower dropout\n",
        "    Dense(128, activation='relu'),\n",
        "    Dropout(0.2),\n",
        "    Dense(1, activation='sigmoid')\n",
        "])\n",
        "\n",
        "# Compile the model\n",
        "lstm_model.compile(loss='binary_crossentropy',\n",
        "                   optimizer=Adam(learning_rate=1e-4),\n",
        "                   metrics=['accuracy'])\n",
        "\n",
        "# Train the model\n",
        "lstm_history = lstm_model.fit(X_train, y_train,\n",
        "                              epochs=8,  # ✅ More epochs\n",
        "                              batch_size=256,  # ✅ Larger batch size\n",
        "                              validation_data=(X_val, y_val),\n",
        "                              class_weight=weights)\n"
      ],
      "metadata": {
        "colab": {
          "base_uri": "https://localhost:8080/"
        },
        "id": "b7ApHBrS3E0e",
        "outputId": "2be98325-65b6-4131-a5e3-7db738c83d89"
      },
      "execution_count": 10,
      "outputs": [
        {
          "output_type": "stream",
          "name": "stdout",
          "text": [
            "Epoch 1/8\n",
            "\u001b[1m5000/5000\u001b[0m \u001b[32m━━━━━━━━━━━━━━━━━━━━\u001b[0m\u001b[37m\u001b[0m \u001b[1m138s\u001b[0m 26ms/step - accuracy: 0.7343 - loss: 0.5248 - val_accuracy: 0.7980 - val_loss: 0.4325\n",
            "Epoch 2/8\n",
            "\u001b[1m5000/5000\u001b[0m \u001b[32m━━━━━━━━━━━━━━━━━━━━\u001b[0m\u001b[37m\u001b[0m \u001b[1m132s\u001b[0m 26ms/step - accuracy: 0.8018 - loss: 0.4281 - val_accuracy: 0.8099 - val_loss: 0.4162\n",
            "Epoch 3/8\n",
            "\u001b[1m5000/5000\u001b[0m \u001b[32m━━━━━━━━━━━━━━━━━━━━\u001b[0m\u001b[37m\u001b[0m \u001b[1m135s\u001b[0m 27ms/step - accuracy: 0.8132 - loss: 0.4077 - val_accuracy: 0.8147 - val_loss: 0.4064\n",
            "Epoch 4/8\n",
            "\u001b[1m5000/5000\u001b[0m \u001b[32m━━━━━━━━━━━━━━━━━━━━\u001b[0m\u001b[37m\u001b[0m \u001b[1m137s\u001b[0m 26ms/step - accuracy: 0.8204 - loss: 0.3950 - val_accuracy: 0.8195 - val_loss: 0.3990\n",
            "Epoch 5/8\n",
            "\u001b[1m5000/5000\u001b[0m \u001b[32m━━━━━━━━━━━━━━━━━━━━\u001b[0m\u001b[37m\u001b[0m \u001b[1m136s\u001b[0m 27ms/step - accuracy: 0.8247 - loss: 0.3879 - val_accuracy: 0.8218 - val_loss: 0.3937\n",
            "Epoch 6/8\n",
            "\u001b[1m5000/5000\u001b[0m \u001b[32m━━━━━━━━━━━━━━━━━━━━\u001b[0m\u001b[37m\u001b[0m \u001b[1m139s\u001b[0m 27ms/step - accuracy: 0.8276 - loss: 0.3813 - val_accuracy: 0.8253 - val_loss: 0.3895\n",
            "Epoch 7/8\n",
            "\u001b[1m5000/5000\u001b[0m \u001b[32m━━━━━━━━━━━━━━━━━━━━\u001b[0m\u001b[37m\u001b[0m \u001b[1m133s\u001b[0m 27ms/step - accuracy: 0.8317 - loss: 0.3740 - val_accuracy: 0.8262 - val_loss: 0.3846\n",
            "Epoch 8/8\n",
            "\u001b[1m5000/5000\u001b[0m \u001b[32m━━━━━━━━━━━━━━━━━━━━\u001b[0m\u001b[37m\u001b[0m \u001b[1m142s\u001b[0m 27ms/step - accuracy: 0.8341 - loss: 0.3699 - val_accuracy: 0.8268 - val_loss: 0.3849\n"
          ]
        }
      ]
    },
    {
      "cell_type": "markdown",
      "source": [
        "**Step 8: Accuracy and Loss Comparison Between RNN and LSTM**\n",
        "This step visualizes the training and validation accuracy and loss for both the RNN and the LSTM models over each training epoch. It helps compare how well each model:\n",
        "\n",
        "Learns from training data (Train curves)\n",
        "\n",
        "Generalizes to unseen data (Validation curves)\n",
        "\n",
        "From the plots, we can visually assess which model performs better in terms of:\n",
        "\n",
        "Accuracy (how well it predicts sentiment correctly)\n",
        "\n",
        "Loss (how confident and correct the model is)\n",
        "\n",
        "This comparison is key in understanding the strengths of the LSTM improvements over the basic RNN.\n",
        "\n"
      ],
      "metadata": {
        "id": "mFgqsHKV7qzA"
      }
    },
    {
      "cell_type": "code",
      "source": [
        "# STEP 8: Plot comparison\n",
        "plt.figure(figsize=(14, 5))\n",
        "plt.subplot(1, 2, 1)\n",
        "plt.plot(rnn_history.history['accuracy'], label='RNN Train')\n",
        "plt.plot(rnn_history.history['val_accuracy'], label='RNN Val')\n",
        "plt.plot(lstm_history.history['accuracy'], label='LSTM Train')\n",
        "plt.plot(lstm_history.history['val_accuracy'], label='LSTM Val')\n",
        "plt.title('Model Accuracy')\n",
        "plt.legend()\n",
        "\n",
        "plt.subplot(1, 2, 2)\n",
        "plt.plot(rnn_history.history['loss'], label='RNN Train')\n",
        "plt.plot(rnn_history.history['val_loss'], label='RNN Val')\n",
        "plt.plot(lstm_history.history['loss'], label='LSTM Train')\n",
        "plt.plot(lstm_history.history['val_loss'], label='LSTM Val')\n",
        "plt.title('Model Loss')\n",
        "plt.legend()\n",
        "\n",
        "plt.show()"
      ],
      "metadata": {
        "colab": {
          "base_uri": "https://localhost:8080/",
          "height": 427
        },
        "id": "iif-GYe-30D9",
        "outputId": "79908a52-42b6-45bd-a416-fcd80d015f1b"
      },
      "execution_count": 11,
      "outputs": [
        {
          "output_type": "display_data",
          "data": {
            "text/plain": [
              "<Figure size 1400x500 with 2 Axes>"
            ],
            "image/png": "[encoded data removed]"
          },
          "metadata": {}
        }
      ]
    },
    {
      "cell_type": "markdown",
      "source": [
        "**Step 9: Displaying Model Comparison Table**\n",
        "In this step, we evaluate the performance of the optimized LSTM model on the test set to obtain its accuracy and loss. We also measure the LSTM's training time. Then, we create a result table using a pandas DataFrame to compare the performance of the RNN and LSTM models based on:\n",
        "\n",
        "Test Accuracy\n",
        "\n",
        "Test Loss\n",
        "\n",
        "Training Time\n",
        "\n",
        "This table helps visualize which model performs better in terms of both effectiveness and efficiency."
      ],
      "metadata": {
        "id": "RyVQD06q74ba"
      }
    },
    {
      "cell_type": "code",
      "source": [
        "# STEP 9: Show Result Table\n",
        "import pandas as pd\n",
        "import time\n",
        "\n",
        "# Evaluate the LSTM model to get lstm_loss and lstm_acc\n",
        "lstm_loss, lstm_acc = lstm_model.evaluate(X_test, y_test, verbose=0)\n",
        "\n",
        "# Assuming you want to include LSTM training time, you'll need to measure it\n",
        "# This code snippet assumes you've already trained the LSTM model\n",
        "start_lstm = time.time()\n",
        "# ... (LSTM training code) ...\n",
        "lstm_time = time.time() - start_lstm\n",
        "results = pd.DataFrame({\n",
        "    \"Model\": [\"RNN\", \"LSTM (Optimized)\"],\n",
        "    \"Test Accuracy\": [rnn_acc, lstm_acc],\n",
        "    \"Test Loss\": [rnn_loss, lstm_loss],\n",
        "    \"Training Time (sec)\": [rnn_time, lstm_time]\n",
        "})\n",
        "print(results)"
      ],
      "metadata": {
        "colab": {
          "base_uri": "https://localhost:8080/"
        },
        "id": "yKLSmocx4CDC",
        "outputId": "39dafea0-8666-4b0a-9cc5-83249a42aa60"
      },
      "execution_count": 14,
      "outputs": [
        {
          "output_type": "stream",
          "name": "stdout",
          "text": [
            "              Model  Test Accuracy  Test Loss  Training Time (sec)\n",
            "0               RNN       0.765331   0.491326           494.236203\n",
            "1  LSTM (Optimized)       0.828031   0.383422             0.000049\n"
          ]
        }
      ]
    },
    {
      "cell_type": "markdown",
      "source": [
        "**Step 10: Predict Sentiment from Custom Input**\n",
        "In this final step, we allow the user to input a custom tweet. The text is:\n",
        "\n",
        "Cleaned using the same preprocessing steps (removing URLs, mentions, special characters, etc.).\n",
        "\n",
        "Tokenized and padded to match the input format used during training.\n",
        "\n",
        "Passed to both the RNN and LSTM models to predict the sentiment.\n",
        "\n",
        "The output is a friendly message showing whether the tweet is Positive 😊 or Negative 😠 based on each model’s prediction.\n",
        "\n",
        "This step helps demonstrate how the model works in a real-world scenario and makes the project interactive."
      ],
      "metadata": {
        "id": "2g8ltX6g8NzG"
      }
    },
    {
      "cell_type": "code",
      "source": [
        "# STEP 10: Predict from input\n",
        "def clean_text_for_test(text):\n",
        "    return re.sub(r\"http\\S+|@\\w+|#|\\W\", \" \", text).lower().strip()\n",
        "\n",
        "def predict(text, model):\n",
        "    cleaned = clean_text_for_test(text)\n",
        "    seq = tokenizer.texts_to_sequences([cleaned])\n",
        "    padded_seq = pad_sequences(seq, maxlen=max_len, padding='post')\n",
        "    pred = model.predict(padded_seq)[0][0]\n",
        "    return \"Positive 😊\" if pred > 0.5 else \"Negative 😠\"\n",
        "\n",
        "# Try a sentence!\n",
        "text_input = input(\"Enter tweet to test: \")\n",
        "print(\"RNN Prediction:\", predict(text_input, rnn_model))\n",
        "print(\"LSTM Prediction:\", predict(text_input, lstm_model))"
      ],
      "metadata": {
        "colab": {
          "base_uri": "https://localhost:8080/"
        },
        "id": "MKJsd6fT4JUn",
        "outputId": "d2f281c2-7c11-4f72-b335-6cb611f7c5a1"
      },
      "execution_count": 15,
      "outputs": [
        {
          "output_type": "stream",
          "name": "stdout",
          "text": [
            "Enter tweet to test: I love meat\n",
            "\u001b[1m1/1\u001b[0m \u001b[32m━━━━━━━━━━━━━━━━━━━━\u001b[0m\u001b[37m\u001b[0m \u001b[1m0s\u001b[0m 380ms/step\n",
            "RNN Prediction: Positive 😊\n",
            "\u001b[1m1/1\u001b[0m \u001b[32m━━━━━━━━━━━━━━━━━━━━\u001b[0m\u001b[37m\u001b[0m \u001b[1m0s\u001b[0m 193ms/step\n",
            "LSTM Prediction: Positive 😊\n"
          ]
        }
      ]
    }
  ],
  "metadata": {
    "accelerator": "GPU",
    "colab": {
      "gpuType": "T4",
      "provenance": []
    },
    "kernelspec": {
      "display_name": "Python 3",
      "name": "python3"
    },
    "language_info": {
      "name": "python"
    }
  },
  "nbformat": 4,
  "nbformat_minor": 0
}